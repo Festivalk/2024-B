{
 "cells": [
  {
   "cell_type": "code",
   "execution_count": 5,
   "id": "initial_id",
   "metadata": {
    "collapsed": true,
    "ExecuteTime": {
     "end_time": "2024-09-06T04:57:11.721598Z",
     "start_time": "2024-09-06T04:57:11.669059Z"
    }
   },
   "outputs": [
    {
     "name": "stdout",
     "output_type": "stream",
     "text": [
      "最优解: [0. 0. 0. 1.]\n",
      "最优总成本: 694.75\n"
     ]
    }
   ],
   "source": [
    "import numpy as np\n",
    "from scipy.optimize import differential_evolution\n",
    "\n",
    "# 定义参数，这是情况1，你们可以吧2-6通过更改参数来测试\n",
    "p1, p2 = 0.1, 0.1  # 零配件 1 和 2 的次品率\n",
    "Cd1, Cd2 = 2, 3  # 零配件 1 和 2 的检测成本\n",
    "Cp1, Cp2 = 4, 18  # 零配件 1 和 2 的采购单价\n",
    "Ca, Cd = 6, 3  # 成品装配成本和检测成本\n",
    "Ct, Cr = 5, 6  # 拆解费用和调换损失\n",
    "n1, n2 = 100, 100  # 零配件数量\n",
    "nf = 90  # 成品数量\n",
    "\n",
    "# 成品次品率计算函数\n",
    "def calculate_defect_rate(x1, x2):\n",
    "    PAa = (1 - x1) * p1 + (1 - x2) * p2 - (1 - x1) * (1 - x2) * p1 * p2\n",
    "    pf = 1 - (1 - PAa) ** 2\n",
    "    return pf\n",
    "\n",
    "# 成本计算函数\n",
    "def total_cost(x):\n",
    "    x1, x2, xf, xt = x  # 决策变量\n",
    "    pf = calculate_defect_rate(x1, x2)\n",
    "    \n",
    "    # 零配件检测成本\n",
    "    C_零配件检测 = x1 * Cd1 * n1 + x2 * Cd2 * n2\n",
    "    \n",
    "    # 装配成本\n",
    "    C_装配 = Ca * nf\n",
    "    \n",
    "    # 成品检测成本\n",
    "    C_成品检测 = xf * Cd * nf\n",
    "    \n",
    "    # 拆解和调换成本\n",
    "    C_拆解 = xt * Ct * pf * nf\n",
    "    C_调换 = (1 - xt) * Cr * pf * nf\n",
    "    \n",
    "    # 总成本\n",
    "    total_cost = C_零配件检测 + C_装配 + C_成品检测 + C_拆解 + C_调换\n",
    "    return total_cost\n",
    "\n",
    "# 使用遗传算法优化\n",
    "bounds = [(0, 1), (0, 1), (0, 1), (0, 1)]  # 决策变量的范围\n",
    "\n",
    "result = differential_evolution(total_cost, bounds, strategy='best1bin', maxiter=1000, popsize=15, tol=0.01)\n",
    "optimal_solution = result.x  # 最优解\n",
    "optimal_cost = result.fun  # 最优总成本\n",
    "\n",
    "print(f\"最优解: {optimal_solution}\")\n",
    "print(f\"最优总成本: {optimal_cost:.2f}\")\n"
   ]
  },
  {
   "cell_type": "code",
   "outputs": [],
   "source": [
    "import creator\n",
    "\n",
    "creator.create(\"FitnessMin\",base.Fitness, weights=(-1.0,))\n"
   ],
   "metadata": {
    "collapsed": false
   },
   "id": "97b5318a2aa97c9c"
  }
 ],
 "metadata": {
  "kernelspec": {
   "display_name": "Python 3",
   "language": "python",
   "name": "python3"
  },
  "language_info": {
   "codemirror_mode": {
    "name": "ipython",
    "version": 2
   },
   "file_extension": ".py",
   "mimetype": "text/x-python",
   "name": "python",
   "nbconvert_exporter": "python",
   "pygments_lexer": "ipython2",
   "version": "2.7.6"
  }
 },
 "nbformat": 4,
 "nbformat_minor": 5
}
